{
 "cells": [
  {
   "cell_type": "code",
   "execution_count": 2,
   "metadata": {},
   "outputs": [],
   "source": [
    "import pandas as pd\n",
    "df = pd.read_csv(\"BTCUSD_Candlestick_1_D_ASK_08.05.2017-16.10.2021.csv\")"
   ]
  },
  {
   "cell_type": "code",
   "execution_count": 4,
   "metadata": {},
   "outputs": [
    {
     "data": {
      "text/html": [
       "<div>\n",
       "<style scoped>\n",
       "    .dataframe tbody tr th:only-of-type {\n",
       "        vertical-align: middle;\n",
       "    }\n",
       "\n",
       "    .dataframe tbody tr th {\n",
       "        vertical-align: top;\n",
       "    }\n",
       "\n",
       "    .dataframe thead th {\n",
       "        text-align: right;\n",
       "    }\n",
       "</style>\n",
       "<table border=\"1\" class=\"dataframe\">\n",
       "  <thead>\n",
       "    <tr style=\"text-align: right;\">\n",
       "      <th></th>\n",
       "      <th>Gmt time</th>\n",
       "      <th>Open</th>\n",
       "      <th>High</th>\n",
       "      <th>Low</th>\n",
       "      <th>Close</th>\n",
       "      <th>Volume</th>\n",
       "    </tr>\n",
       "  </thead>\n",
       "  <tbody>\n",
       "    <tr>\n",
       "      <th>0</th>\n",
       "      <td>07.05.2017 21:00:00.000</td>\n",
       "      <td>1559</td>\n",
       "      <td>1681</td>\n",
       "      <td>1557</td>\n",
       "      <td>1658</td>\n",
       "      <td>1.872044e+06</td>\n",
       "    </tr>\n",
       "    <tr>\n",
       "      <th>1</th>\n",
       "      <td>08.05.2017 21:00:00.000</td>\n",
       "      <td>1658</td>\n",
       "      <td>1753</td>\n",
       "      <td>1626</td>\n",
       "      <td>1747</td>\n",
       "      <td>1.330136e+06</td>\n",
       "    </tr>\n",
       "    <tr>\n",
       "      <th>2</th>\n",
       "      <td>09.05.2017 21:00:00.000</td>\n",
       "      <td>1713</td>\n",
       "      <td>1769</td>\n",
       "      <td>1677</td>\n",
       "      <td>1752</td>\n",
       "      <td>1.916895e+06</td>\n",
       "    </tr>\n",
       "    <tr>\n",
       "      <th>3</th>\n",
       "      <td>10.05.2017 21:00:00.000</td>\n",
       "      <td>1784</td>\n",
       "      <td>1887</td>\n",
       "      <td>1777</td>\n",
       "      <td>1857</td>\n",
       "      <td>1.613521e+06</td>\n",
       "    </tr>\n",
       "    <tr>\n",
       "      <th>4</th>\n",
       "      <td>11.05.2017 21:00:00.000</td>\n",
       "      <td>1836</td>\n",
       "      <td>1836</td>\n",
       "      <td>1651</td>\n",
       "      <td>1692</td>\n",
       "      <td>2.550428e+06</td>\n",
       "    </tr>\n",
       "    <tr>\n",
       "      <th>...</th>\n",
       "      <td>...</td>\n",
       "      <td>...</td>\n",
       "      <td>...</td>\n",
       "      <td>...</td>\n",
       "      <td>...</td>\n",
       "      <td>...</td>\n",
       "    </tr>\n",
       "    <tr>\n",
       "      <th>1301</th>\n",
       "      <td>12.10.2021 21:00:00.000</td>\n",
       "      <td>55433</td>\n",
       "      <td>57543</td>\n",
       "      <td>54328</td>\n",
       "      <td>57047</td>\n",
       "      <td>2.013182e+03</td>\n",
       "    </tr>\n",
       "    <tr>\n",
       "      <th>1302</th>\n",
       "      <td>13.10.2021 21:00:00.000</td>\n",
       "      <td>57078</td>\n",
       "      <td>58568</td>\n",
       "      <td>56906</td>\n",
       "      <td>57505</td>\n",
       "      <td>2.001020e+03</td>\n",
       "    </tr>\n",
       "    <tr>\n",
       "      <th>1303</th>\n",
       "      <td>14.10.2021 21:00:00.000</td>\n",
       "      <td>57533</td>\n",
       "      <td>62922</td>\n",
       "      <td>56940</td>\n",
       "      <td>62587</td>\n",
       "      <td>2.235774e+03</td>\n",
       "    </tr>\n",
       "    <tr>\n",
       "      <th>1304</th>\n",
       "      <td>15.10.2021 21:00:00.000</td>\n",
       "      <td>62587</td>\n",
       "      <td>62608</td>\n",
       "      <td>60223</td>\n",
       "      <td>61077</td>\n",
       "      <td>1.943311e+03</td>\n",
       "    </tr>\n",
       "    <tr>\n",
       "      <th>1305</th>\n",
       "      <td>16.10.2021 21:00:00.000</td>\n",
       "      <td>61077</td>\n",
       "      <td>61498</td>\n",
       "      <td>59043</td>\n",
       "      <td>59467</td>\n",
       "      <td>2.443833e+03</td>\n",
       "    </tr>\n",
       "  </tbody>\n",
       "</table>\n",
       "<p>1306 rows × 6 columns</p>\n",
       "</div>"
      ],
      "text/plain": [
       "                     Gmt time   Open   High    Low  Close        Volume\n",
       "0     07.05.2017 21:00:00.000   1559   1681   1557   1658  1.872044e+06\n",
       "1     08.05.2017 21:00:00.000   1658   1753   1626   1747  1.330136e+06\n",
       "2     09.05.2017 21:00:00.000   1713   1769   1677   1752  1.916895e+06\n",
       "3     10.05.2017 21:00:00.000   1784   1887   1777   1857  1.613521e+06\n",
       "4     11.05.2017 21:00:00.000   1836   1836   1651   1692  2.550428e+06\n",
       "...                       ...    ...    ...    ...    ...           ...\n",
       "1301  12.10.2021 21:00:00.000  55433  57543  54328  57047  2.013182e+03\n",
       "1302  13.10.2021 21:00:00.000  57078  58568  56906  57505  2.001020e+03\n",
       "1303  14.10.2021 21:00:00.000  57533  62922  56940  62587  2.235774e+03\n",
       "1304  15.10.2021 21:00:00.000  62587  62608  60223  61077  1.943311e+03\n",
       "1305  16.10.2021 21:00:00.000  61077  61498  59043  59467  2.443833e+03\n",
       "\n",
       "[1306 rows x 6 columns]"
      ]
     },
     "execution_count": 4,
     "metadata": {},
     "output_type": "execute_result"
    }
   ],
   "source": [
    "df"
   ]
  },
  {
   "cell_type": "code",
   "execution_count": 5,
   "metadata": {},
   "outputs": [
    {
     "data": {
      "text/html": [
       "<div>\n",
       "<style scoped>\n",
       "    .dataframe tbody tr th:only-of-type {\n",
       "        vertical-align: middle;\n",
       "    }\n",
       "\n",
       "    .dataframe tbody tr th {\n",
       "        vertical-align: top;\n",
       "    }\n",
       "\n",
       "    .dataframe thead th {\n",
       "        text-align: right;\n",
       "    }\n",
       "</style>\n",
       "<table border=\"1\" class=\"dataframe\">\n",
       "  <thead>\n",
       "    <tr style=\"text-align: right;\">\n",
       "      <th></th>\n",
       "      <th>Gmt time</th>\n",
       "      <th>Open</th>\n",
       "      <th>High</th>\n",
       "      <th>Low</th>\n",
       "      <th>Close</th>\n",
       "      <th>Volume</th>\n",
       "    </tr>\n",
       "  </thead>\n",
       "  <tbody>\n",
       "    <tr>\n",
       "      <th>0</th>\n",
       "      <td>07.05.2017 21:00:00.000</td>\n",
       "      <td>1559</td>\n",
       "      <td>1681</td>\n",
       "      <td>1557</td>\n",
       "      <td>1658</td>\n",
       "      <td>1.872044e+06</td>\n",
       "    </tr>\n",
       "    <tr>\n",
       "      <th>1</th>\n",
       "      <td>08.05.2017 21:00:00.000</td>\n",
       "      <td>1658</td>\n",
       "      <td>1753</td>\n",
       "      <td>1626</td>\n",
       "      <td>1747</td>\n",
       "      <td>1.330136e+06</td>\n",
       "    </tr>\n",
       "    <tr>\n",
       "      <th>2</th>\n",
       "      <td>09.05.2017 21:00:00.000</td>\n",
       "      <td>1713</td>\n",
       "      <td>1769</td>\n",
       "      <td>1677</td>\n",
       "      <td>1752</td>\n",
       "      <td>1.916895e+06</td>\n",
       "    </tr>\n",
       "    <tr>\n",
       "      <th>3</th>\n",
       "      <td>10.05.2017 21:00:00.000</td>\n",
       "      <td>1784</td>\n",
       "      <td>1887</td>\n",
       "      <td>1777</td>\n",
       "      <td>1857</td>\n",
       "      <td>1.613521e+06</td>\n",
       "    </tr>\n",
       "    <tr>\n",
       "      <th>4</th>\n",
       "      <td>11.05.2017 21:00:00.000</td>\n",
       "      <td>1836</td>\n",
       "      <td>1836</td>\n",
       "      <td>1651</td>\n",
       "      <td>1692</td>\n",
       "      <td>2.550428e+06</td>\n",
       "    </tr>\n",
       "    <tr>\n",
       "      <th>...</th>\n",
       "      <td>...</td>\n",
       "      <td>...</td>\n",
       "      <td>...</td>\n",
       "      <td>...</td>\n",
       "      <td>...</td>\n",
       "      <td>...</td>\n",
       "    </tr>\n",
       "    <tr>\n",
       "      <th>1301</th>\n",
       "      <td>12.10.2021 21:00:00.000</td>\n",
       "      <td>55433</td>\n",
       "      <td>57543</td>\n",
       "      <td>54328</td>\n",
       "      <td>57047</td>\n",
       "      <td>2.013182e+03</td>\n",
       "    </tr>\n",
       "    <tr>\n",
       "      <th>1302</th>\n",
       "      <td>13.10.2021 21:00:00.000</td>\n",
       "      <td>57078</td>\n",
       "      <td>58568</td>\n",
       "      <td>56906</td>\n",
       "      <td>57505</td>\n",
       "      <td>2.001020e+03</td>\n",
       "    </tr>\n",
       "    <tr>\n",
       "      <th>1303</th>\n",
       "      <td>14.10.2021 21:00:00.000</td>\n",
       "      <td>57533</td>\n",
       "      <td>62922</td>\n",
       "      <td>56940</td>\n",
       "      <td>62587</td>\n",
       "      <td>2.235774e+03</td>\n",
       "    </tr>\n",
       "    <tr>\n",
       "      <th>1304</th>\n",
       "      <td>15.10.2021 21:00:00.000</td>\n",
       "      <td>62587</td>\n",
       "      <td>62608</td>\n",
       "      <td>60223</td>\n",
       "      <td>61077</td>\n",
       "      <td>1.943311e+03</td>\n",
       "    </tr>\n",
       "    <tr>\n",
       "      <th>1305</th>\n",
       "      <td>16.10.2021 21:00:00.000</td>\n",
       "      <td>61077</td>\n",
       "      <td>61498</td>\n",
       "      <td>59043</td>\n",
       "      <td>59467</td>\n",
       "      <td>2.443833e+03</td>\n",
       "    </tr>\n",
       "  </tbody>\n",
       "</table>\n",
       "<p>1304 rows × 6 columns</p>\n",
       "</div>"
      ],
      "text/plain": [
       "                     Gmt time   Open   High    Low  Close        Volume\n",
       "0     07.05.2017 21:00:00.000   1559   1681   1557   1658  1.872044e+06\n",
       "1     08.05.2017 21:00:00.000   1658   1753   1626   1747  1.330136e+06\n",
       "2     09.05.2017 21:00:00.000   1713   1769   1677   1752  1.916895e+06\n",
       "3     10.05.2017 21:00:00.000   1784   1887   1777   1857  1.613521e+06\n",
       "4     11.05.2017 21:00:00.000   1836   1836   1651   1692  2.550428e+06\n",
       "...                       ...    ...    ...    ...    ...           ...\n",
       "1301  12.10.2021 21:00:00.000  55433  57543  54328  57047  2.013182e+03\n",
       "1302  13.10.2021 21:00:00.000  57078  58568  56906  57505  2.001020e+03\n",
       "1303  14.10.2021 21:00:00.000  57533  62922  56940  62587  2.235774e+03\n",
       "1304  15.10.2021 21:00:00.000  62587  62608  60223  61077  1.943311e+03\n",
       "1305  16.10.2021 21:00:00.000  61077  61498  59043  59467  2.443833e+03\n",
       "\n",
       "[1304 rows x 6 columns]"
      ]
     },
     "execution_count": 5,
     "metadata": {},
     "output_type": "execute_result"
    }
   ],
   "source": [
    "df = df[df[\"Volume\"]!=0]\n",
    "df"
   ]
  },
  {
   "cell_type": "code",
   "execution_count": 9,
   "metadata": {},
   "outputs": [
    {
     "data": {
      "application/vnd.plotly.v1+json": {
       "config": {
        "plotlyServerURL": "https://plot.ly"
       },
       "data": [
        {
         "close": [
          1658,
          1747,
          1752,
          1857,
          1692,
          1734,
          1770,
          1817,
          1884,
          1938,
          2151,
          2217,
          2430,
          2468,
          2243,
          2307,
          2252,
          2287,
          2411,
          2432,
          2625,
          2872,
          2739,
          2750,
          2835,
          2547,
          2702,
          2553,
          2363,
          2488,
          2580,
          2750,
          2660,
          2672,
          2708,
          2356,
          2458,
          2595,
          2559,
          2504,
          2558,
          2577,
          2612,
          2598,
          2515,
          2385,
          2330,
          2391,
          2339,
          2160
         ],
         "high": [
          1681,
          1753,
          1769,
          1887,
          1836,
          1803,
          1782,
          1856,
          1887,
          1963,
          2299,
          2272,
          2450,
          2801,
          2679,
          2353,
          2370,
          2337,
          2490,
          2450,
          2630,
          2941,
          2886,
          2813,
          2863,
          3003,
          2788,
          2819,
          2559,
          2526,
          2587,
          2777,
          2781,
          2729,
          2736,
          2561,
          2470,
          2599,
          2605,
          2568,
          2585,
          2642,
          2623,
          2630,
          2610,
          2541,
          2409,
          2414,
          2418,
          2356
         ],
         "low": [
          1557,
          1626,
          1677,
          1777,
          1651,
          1714,
          1710,
          1746,
          1795,
          1869,
          1999,
          1990,
          2195,
          2226,
          2243,
          2093,
          2211,
          2134,
          2280,
          2374,
          2504,
          2690,
          2739,
          2612,
          2749,
          2449,
          2638,
          2523,
          2077,
          2304,
          2460,
          2586,
          2637,
          2571,
          2664,
          2256,
          2269,
          2428,
          2503,
          2482,
          2476,
          2545,
          2548,
          2581,
          2490,
          2361,
          2256,
          2243,
          2310,
          2153
         ],
         "open": [
          1559,
          1658,
          1713,
          1784,
          1836,
          1799,
          1740,
          1770,
          1812,
          1884,
          2022,
          2152,
          2234,
          2424,
          2485,
          2120,
          2313,
          2261,
          2287,
          2413,
          2506,
          2690,
          2872,
          2740,
          2750,
          2923,
          2657,
          2703,
          2553,
          2362,
          2470,
          2597,
          2750,
          2661,
          2672,
          2473,
          2349,
          2458,
          2595,
          2558,
          2499,
          2558,
          2577,
          2612,
          2598,
          2529,
          2385,
          2330,
          2390,
          2338
         ],
         "type": "candlestick",
         "x": [
          0,
          1,
          2,
          3,
          4,
          5,
          6,
          7,
          8,
          9,
          10,
          11,
          12,
          13,
          14,
          15,
          16,
          17,
          18,
          19,
          20,
          21,
          22,
          23,
          24,
          25,
          26,
          27,
          28,
          29,
          30,
          31,
          32,
          33,
          34,
          35,
          36,
          37,
          38,
          39,
          40,
          41,
          42,
          43,
          44,
          45,
          46,
          47,
          48,
          49
         ]
        }
       ],
       "layout": {
        "template": {
         "data": {
          "bar": [
           {
            "error_x": {
             "color": "#2a3f5f"
            },
            "error_y": {
             "color": "#2a3f5f"
            },
            "marker": {
             "line": {
              "color": "#E5ECF6",
              "width": 0.5
             },
             "pattern": {
              "fillmode": "overlay",
              "size": 10,
              "solidity": 0.2
             }
            },
            "type": "bar"
           }
          ],
          "barpolar": [
           {
            "marker": {
             "line": {
              "color": "#E5ECF6",
              "width": 0.5
             },
             "pattern": {
              "fillmode": "overlay",
              "size": 10,
              "solidity": 0.2
             }
            },
            "type": "barpolar"
           }
          ],
          "carpet": [
           {
            "aaxis": {
             "endlinecolor": "#2a3f5f",
             "gridcolor": "white",
             "linecolor": "white",
             "minorgridcolor": "white",
             "startlinecolor": "#2a3f5f"
            },
            "baxis": {
             "endlinecolor": "#2a3f5f",
             "gridcolor": "white",
             "linecolor": "white",
             "minorgridcolor": "white",
             "startlinecolor": "#2a3f5f"
            },
            "type": "carpet"
           }
          ],
          "choropleth": [
           {
            "colorbar": {
             "outlinewidth": 0,
             "ticks": ""
            },
            "type": "choropleth"
           }
          ],
          "contour": [
           {
            "colorbar": {
             "outlinewidth": 0,
             "ticks": ""
            },
            "colorscale": [
             [
              0,
              "#0d0887"
             ],
             [
              0.1111111111111111,
              "#46039f"
             ],
             [
              0.2222222222222222,
              "#7201a8"
             ],
             [
              0.3333333333333333,
              "#9c179e"
             ],
             [
              0.4444444444444444,
              "#bd3786"
             ],
             [
              0.5555555555555556,
              "#d8576b"
             ],
             [
              0.6666666666666666,
              "#ed7953"
             ],
             [
              0.7777777777777778,
              "#fb9f3a"
             ],
             [
              0.8888888888888888,
              "#fdca26"
             ],
             [
              1,
              "#f0f921"
             ]
            ],
            "type": "contour"
           }
          ],
          "contourcarpet": [
           {
            "colorbar": {
             "outlinewidth": 0,
             "ticks": ""
            },
            "type": "contourcarpet"
           }
          ],
          "heatmap": [
           {
            "colorbar": {
             "outlinewidth": 0,
             "ticks": ""
            },
            "colorscale": [
             [
              0,
              "#0d0887"
             ],
             [
              0.1111111111111111,
              "#46039f"
             ],
             [
              0.2222222222222222,
              "#7201a8"
             ],
             [
              0.3333333333333333,
              "#9c179e"
             ],
             [
              0.4444444444444444,
              "#bd3786"
             ],
             [
              0.5555555555555556,
              "#d8576b"
             ],
             [
              0.6666666666666666,
              "#ed7953"
             ],
             [
              0.7777777777777778,
              "#fb9f3a"
             ],
             [
              0.8888888888888888,
              "#fdca26"
             ],
             [
              1,
              "#f0f921"
             ]
            ],
            "type": "heatmap"
           }
          ],
          "heatmapgl": [
           {
            "colorbar": {
             "outlinewidth": 0,
             "ticks": ""
            },
            "colorscale": [
             [
              0,
              "#0d0887"
             ],
             [
              0.1111111111111111,
              "#46039f"
             ],
             [
              0.2222222222222222,
              "#7201a8"
             ],
             [
              0.3333333333333333,
              "#9c179e"
             ],
             [
              0.4444444444444444,
              "#bd3786"
             ],
             [
              0.5555555555555556,
              "#d8576b"
             ],
             [
              0.6666666666666666,
              "#ed7953"
             ],
             [
              0.7777777777777778,
              "#fb9f3a"
             ],
             [
              0.8888888888888888,
              "#fdca26"
             ],
             [
              1,
              "#f0f921"
             ]
            ],
            "type": "heatmapgl"
           }
          ],
          "histogram": [
           {
            "marker": {
             "pattern": {
              "fillmode": "overlay",
              "size": 10,
              "solidity": 0.2
             }
            },
            "type": "histogram"
           }
          ],
          "histogram2d": [
           {
            "colorbar": {
             "outlinewidth": 0,
             "ticks": ""
            },
            "colorscale": [
             [
              0,
              "#0d0887"
             ],
             [
              0.1111111111111111,
              "#46039f"
             ],
             [
              0.2222222222222222,
              "#7201a8"
             ],
             [
              0.3333333333333333,
              "#9c179e"
             ],
             [
              0.4444444444444444,
              "#bd3786"
             ],
             [
              0.5555555555555556,
              "#d8576b"
             ],
             [
              0.6666666666666666,
              "#ed7953"
             ],
             [
              0.7777777777777778,
              "#fb9f3a"
             ],
             [
              0.8888888888888888,
              "#fdca26"
             ],
             [
              1,
              "#f0f921"
             ]
            ],
            "type": "histogram2d"
           }
          ],
          "histogram2dcontour": [
           {
            "colorbar": {
             "outlinewidth": 0,
             "ticks": ""
            },
            "colorscale": [
             [
              0,
              "#0d0887"
             ],
             [
              0.1111111111111111,
              "#46039f"
             ],
             [
              0.2222222222222222,
              "#7201a8"
             ],
             [
              0.3333333333333333,
              "#9c179e"
             ],
             [
              0.4444444444444444,
              "#bd3786"
             ],
             [
              0.5555555555555556,
              "#d8576b"
             ],
             [
              0.6666666666666666,
              "#ed7953"
             ],
             [
              0.7777777777777778,
              "#fb9f3a"
             ],
             [
              0.8888888888888888,
              "#fdca26"
             ],
             [
              1,
              "#f0f921"
             ]
            ],
            "type": "histogram2dcontour"
           }
          ],
          "mesh3d": [
           {
            "colorbar": {
             "outlinewidth": 0,
             "ticks": ""
            },
            "type": "mesh3d"
           }
          ],
          "parcoords": [
           {
            "line": {
             "colorbar": {
              "outlinewidth": 0,
              "ticks": ""
             }
            },
            "type": "parcoords"
           }
          ],
          "pie": [
           {
            "automargin": true,
            "type": "pie"
           }
          ],
          "scatter": [
           {
            "fillpattern": {
             "fillmode": "overlay",
             "size": 10,
             "solidity": 0.2
            },
            "type": "scatter"
           }
          ],
          "scatter3d": [
           {
            "line": {
             "colorbar": {
              "outlinewidth": 0,
              "ticks": ""
             }
            },
            "marker": {
             "colorbar": {
              "outlinewidth": 0,
              "ticks": ""
             }
            },
            "type": "scatter3d"
           }
          ],
          "scattercarpet": [
           {
            "marker": {
             "colorbar": {
              "outlinewidth": 0,
              "ticks": ""
             }
            },
            "type": "scattercarpet"
           }
          ],
          "scattergeo": [
           {
            "marker": {
             "colorbar": {
              "outlinewidth": 0,
              "ticks": ""
             }
            },
            "type": "scattergeo"
           }
          ],
          "scattergl": [
           {
            "marker": {
             "colorbar": {
              "outlinewidth": 0,
              "ticks": ""
             }
            },
            "type": "scattergl"
           }
          ],
          "scattermapbox": [
           {
            "marker": {
             "colorbar": {
              "outlinewidth": 0,
              "ticks": ""
             }
            },
            "type": "scattermapbox"
           }
          ],
          "scatterpolar": [
           {
            "marker": {
             "colorbar": {
              "outlinewidth": 0,
              "ticks": ""
             }
            },
            "type": "scatterpolar"
           }
          ],
          "scatterpolargl": [
           {
            "marker": {
             "colorbar": {
              "outlinewidth": 0,
              "ticks": ""
             }
            },
            "type": "scatterpolargl"
           }
          ],
          "scatterternary": [
           {
            "marker": {
             "colorbar": {
              "outlinewidth": 0,
              "ticks": ""
             }
            },
            "type": "scatterternary"
           }
          ],
          "surface": [
           {
            "colorbar": {
             "outlinewidth": 0,
             "ticks": ""
            },
            "colorscale": [
             [
              0,
              "#0d0887"
             ],
             [
              0.1111111111111111,
              "#46039f"
             ],
             [
              0.2222222222222222,
              "#7201a8"
             ],
             [
              0.3333333333333333,
              "#9c179e"
             ],
             [
              0.4444444444444444,
              "#bd3786"
             ],
             [
              0.5555555555555556,
              "#d8576b"
             ],
             [
              0.6666666666666666,
              "#ed7953"
             ],
             [
              0.7777777777777778,
              "#fb9f3a"
             ],
             [
              0.8888888888888888,
              "#fdca26"
             ],
             [
              1,
              "#f0f921"
             ]
            ],
            "type": "surface"
           }
          ],
          "table": [
           {
            "cells": {
             "fill": {
              "color": "#EBF0F8"
             },
             "line": {
              "color": "white"
             }
            },
            "header": {
             "fill": {
              "color": "#C8D4E3"
             },
             "line": {
              "color": "white"
             }
            },
            "type": "table"
           }
          ]
         },
         "layout": {
          "annotationdefaults": {
           "arrowcolor": "#2a3f5f",
           "arrowhead": 0,
           "arrowwidth": 1
          },
          "autotypenumbers": "strict",
          "coloraxis": {
           "colorbar": {
            "outlinewidth": 0,
            "ticks": ""
           }
          },
          "colorscale": {
           "diverging": [
            [
             0,
             "#8e0152"
            ],
            [
             0.1,
             "#c51b7d"
            ],
            [
             0.2,
             "#de77ae"
            ],
            [
             0.3,
             "#f1b6da"
            ],
            [
             0.4,
             "#fde0ef"
            ],
            [
             0.5,
             "#f7f7f7"
            ],
            [
             0.6,
             "#e6f5d0"
            ],
            [
             0.7,
             "#b8e186"
            ],
            [
             0.8,
             "#7fbc41"
            ],
            [
             0.9,
             "#4d9221"
            ],
            [
             1,
             "#276419"
            ]
           ],
           "sequential": [
            [
             0,
             "#0d0887"
            ],
            [
             0.1111111111111111,
             "#46039f"
            ],
            [
             0.2222222222222222,
             "#7201a8"
            ],
            [
             0.3333333333333333,
             "#9c179e"
            ],
            [
             0.4444444444444444,
             "#bd3786"
            ],
            [
             0.5555555555555556,
             "#d8576b"
            ],
            [
             0.6666666666666666,
             "#ed7953"
            ],
            [
             0.7777777777777778,
             "#fb9f3a"
            ],
            [
             0.8888888888888888,
             "#fdca26"
            ],
            [
             1,
             "#f0f921"
            ]
           ],
           "sequentialminus": [
            [
             0,
             "#0d0887"
            ],
            [
             0.1111111111111111,
             "#46039f"
            ],
            [
             0.2222222222222222,
             "#7201a8"
            ],
            [
             0.3333333333333333,
             "#9c179e"
            ],
            [
             0.4444444444444444,
             "#bd3786"
            ],
            [
             0.5555555555555556,
             "#d8576b"
            ],
            [
             0.6666666666666666,
             "#ed7953"
            ],
            [
             0.7777777777777778,
             "#fb9f3a"
            ],
            [
             0.8888888888888888,
             "#fdca26"
            ],
            [
             1,
             "#f0f921"
            ]
           ]
          },
          "colorway": [
           "#636efa",
           "#EF553B",
           "#00cc96",
           "#ab63fa",
           "#FFA15A",
           "#19d3f3",
           "#FF6692",
           "#B6E880",
           "#FF97FF",
           "#FECB52"
          ],
          "font": {
           "color": "#2a3f5f"
          },
          "geo": {
           "bgcolor": "white",
           "lakecolor": "white",
           "landcolor": "#E5ECF6",
           "showlakes": true,
           "showland": true,
           "subunitcolor": "white"
          },
          "hoverlabel": {
           "align": "left"
          },
          "hovermode": "closest",
          "mapbox": {
           "style": "light"
          },
          "paper_bgcolor": "white",
          "plot_bgcolor": "#E5ECF6",
          "polar": {
           "angularaxis": {
            "gridcolor": "white",
            "linecolor": "white",
            "ticks": ""
           },
           "bgcolor": "#E5ECF6",
           "radialaxis": {
            "gridcolor": "white",
            "linecolor": "white",
            "ticks": ""
           }
          },
          "scene": {
           "xaxis": {
            "backgroundcolor": "#E5ECF6",
            "gridcolor": "white",
            "gridwidth": 2,
            "linecolor": "white",
            "showbackground": true,
            "ticks": "",
            "zerolinecolor": "white"
           },
           "yaxis": {
            "backgroundcolor": "#E5ECF6",
            "gridcolor": "white",
            "gridwidth": 2,
            "linecolor": "white",
            "showbackground": true,
            "ticks": "",
            "zerolinecolor": "white"
           },
           "zaxis": {
            "backgroundcolor": "#E5ECF6",
            "gridcolor": "white",
            "gridwidth": 2,
            "linecolor": "white",
            "showbackground": true,
            "ticks": "",
            "zerolinecolor": "white"
           }
          },
          "shapedefaults": {
           "line": {
            "color": "#2a3f5f"
           }
          },
          "ternary": {
           "aaxis": {
            "gridcolor": "white",
            "linecolor": "white",
            "ticks": ""
           },
           "baxis": {
            "gridcolor": "white",
            "linecolor": "white",
            "ticks": ""
           },
           "bgcolor": "#E5ECF6",
           "caxis": {
            "gridcolor": "white",
            "linecolor": "white",
            "ticks": ""
           }
          },
          "title": {
           "x": 0.05
          },
          "xaxis": {
           "automargin": true,
           "gridcolor": "white",
           "linecolor": "white",
           "ticks": "",
           "title": {
            "standoff": 15
           },
           "zerolinecolor": "white",
           "zerolinewidth": 2
          },
          "yaxis": {
           "automargin": true,
           "gridcolor": "white",
           "linecolor": "white",
           "ticks": "",
           "title": {
            "standoff": 15
           },
           "zerolinecolor": "white",
           "zerolinewidth": 2
          }
         }
        }
       }
      }
     },
     "metadata": {},
     "output_type": "display_data"
    }
   ],
   "source": [
    "dfp1 = df[0:50]\n",
    "import plotly.graph_objects as go\n",
    "\n",
    "fig = go.Figure(data=[go.Candlestick(x=dfp1.index,\n",
    "                                     open = dfp1['Open'],\n",
    "                                     high = dfp1['High'],\n",
    "                                     low = dfp1['Low'],\n",
    "                                     close = dfp1['Close'])])\n",
    "\n",
    "fig.show()"
   ]
  },
  {
   "cell_type": "markdown",
   "metadata": {},
   "source": [
    "Including Technical Indicators like EMA and RSI"
   ]
  },
  {
   "cell_type": "code",
   "execution_count": 11,
   "metadata": {},
   "outputs": [
    {
     "name": "stderr",
     "output_type": "stream",
     "text": [
      "C:\\Users\\User\\AppData\\Local\\Temp\\ipykernel_19996\\313552412.py:3: SettingWithCopyWarning:\n",
      "\n",
      "\n",
      "A value is trying to be set on a copy of a slice from a DataFrame.\n",
      "Try using .loc[row_indexer,col_indexer] = value instead\n",
      "\n",
      "See the caveats in the documentation: https://pandas.pydata.org/pandas-docs/stable/user_guide/indexing.html#returning-a-view-versus-a-copy\n",
      "\n",
      "C:\\Users\\User\\AppData\\Local\\Temp\\ipykernel_19996\\313552412.py:4: SettingWithCopyWarning:\n",
      "\n",
      "\n",
      "A value is trying to be set on a copy of a slice from a DataFrame.\n",
      "Try using .loc[row_indexer,col_indexer] = value instead\n",
      "\n",
      "See the caveats in the documentation: https://pandas.pydata.org/pandas-docs/stable/user_guide/indexing.html#returning-a-view-versus-a-copy\n",
      "\n"
     ]
    }
   ],
   "source": [
    "# Including Technical Indicators like EMA and RSI\n",
    "import pandas_ta as ta\n",
    "df[\"EMA\"] = ta.ema(df.Close, length=10)\n",
    "df[\"RSI_10\"] = ta.rsi(df.Close, length=10)\n"
   ]
  },
  {
   "cell_type": "code",
   "execution_count": 12,
   "metadata": {},
   "outputs": [
    {
     "data": {
      "text/html": [
       "<div>\n",
       "<style scoped>\n",
       "    .dataframe tbody tr th:only-of-type {\n",
       "        vertical-align: middle;\n",
       "    }\n",
       "\n",
       "    .dataframe tbody tr th {\n",
       "        vertical-align: top;\n",
       "    }\n",
       "\n",
       "    .dataframe thead th {\n",
       "        text-align: right;\n",
       "    }\n",
       "</style>\n",
       "<table border=\"1\" class=\"dataframe\">\n",
       "  <thead>\n",
       "    <tr style=\"text-align: right;\">\n",
       "      <th></th>\n",
       "      <th>Gmt time</th>\n",
       "      <th>Open</th>\n",
       "      <th>High</th>\n",
       "      <th>Low</th>\n",
       "      <th>Close</th>\n",
       "      <th>Volume</th>\n",
       "      <th>EMA</th>\n",
       "      <th>RSI_10</th>\n",
       "    </tr>\n",
       "  </thead>\n",
       "  <tbody>\n",
       "    <tr>\n",
       "      <th>0</th>\n",
       "      <td>07.05.2017 21:00:00.000</td>\n",
       "      <td>1559</td>\n",
       "      <td>1681</td>\n",
       "      <td>1557</td>\n",
       "      <td>1658</td>\n",
       "      <td>1.872044e+06</td>\n",
       "      <td>NaN</td>\n",
       "      <td>NaN</td>\n",
       "    </tr>\n",
       "    <tr>\n",
       "      <th>1</th>\n",
       "      <td>08.05.2017 21:00:00.000</td>\n",
       "      <td>1658</td>\n",
       "      <td>1753</td>\n",
       "      <td>1626</td>\n",
       "      <td>1747</td>\n",
       "      <td>1.330136e+06</td>\n",
       "      <td>NaN</td>\n",
       "      <td>NaN</td>\n",
       "    </tr>\n",
       "    <tr>\n",
       "      <th>2</th>\n",
       "      <td>09.05.2017 21:00:00.000</td>\n",
       "      <td>1713</td>\n",
       "      <td>1769</td>\n",
       "      <td>1677</td>\n",
       "      <td>1752</td>\n",
       "      <td>1.916895e+06</td>\n",
       "      <td>NaN</td>\n",
       "      <td>NaN</td>\n",
       "    </tr>\n",
       "    <tr>\n",
       "      <th>3</th>\n",
       "      <td>10.05.2017 21:00:00.000</td>\n",
       "      <td>1784</td>\n",
       "      <td>1887</td>\n",
       "      <td>1777</td>\n",
       "      <td>1857</td>\n",
       "      <td>1.613521e+06</td>\n",
       "      <td>NaN</td>\n",
       "      <td>NaN</td>\n",
       "    </tr>\n",
       "    <tr>\n",
       "      <th>4</th>\n",
       "      <td>11.05.2017 21:00:00.000</td>\n",
       "      <td>1836</td>\n",
       "      <td>1836</td>\n",
       "      <td>1651</td>\n",
       "      <td>1692</td>\n",
       "      <td>2.550428e+06</td>\n",
       "      <td>NaN</td>\n",
       "      <td>NaN</td>\n",
       "    </tr>\n",
       "    <tr>\n",
       "      <th>...</th>\n",
       "      <td>...</td>\n",
       "      <td>...</td>\n",
       "      <td>...</td>\n",
       "      <td>...</td>\n",
       "      <td>...</td>\n",
       "      <td>...</td>\n",
       "      <td>...</td>\n",
       "      <td>...</td>\n",
       "    </tr>\n",
       "    <tr>\n",
       "      <th>1301</th>\n",
       "      <td>12.10.2021 21:00:00.000</td>\n",
       "      <td>55433</td>\n",
       "      <td>57543</td>\n",
       "      <td>54328</td>\n",
       "      <td>57047</td>\n",
       "      <td>2.013182e+03</td>\n",
       "      <td>54074.141410</td>\n",
       "      <td>71.360551</td>\n",
       "    </tr>\n",
       "    <tr>\n",
       "      <th>1302</th>\n",
       "      <td>13.10.2021 21:00:00.000</td>\n",
       "      <td>57078</td>\n",
       "      <td>58568</td>\n",
       "      <td>56906</td>\n",
       "      <td>57505</td>\n",
       "      <td>2.001020e+03</td>\n",
       "      <td>54697.933881</td>\n",
       "      <td>72.354299</td>\n",
       "    </tr>\n",
       "    <tr>\n",
       "      <th>1303</th>\n",
       "      <td>14.10.2021 21:00:00.000</td>\n",
       "      <td>57533</td>\n",
       "      <td>62922</td>\n",
       "      <td>56940</td>\n",
       "      <td>62587</td>\n",
       "      <td>2.235774e+03</td>\n",
       "      <td>56132.309539</td>\n",
       "      <td>80.637520</td>\n",
       "    </tr>\n",
       "    <tr>\n",
       "      <th>1304</th>\n",
       "      <td>15.10.2021 21:00:00.000</td>\n",
       "      <td>62587</td>\n",
       "      <td>62608</td>\n",
       "      <td>60223</td>\n",
       "      <td>61077</td>\n",
       "      <td>1.943311e+03</td>\n",
       "      <td>57031.344168</td>\n",
       "      <td>73.379074</td>\n",
       "    </tr>\n",
       "    <tr>\n",
       "      <th>1305</th>\n",
       "      <td>16.10.2021 21:00:00.000</td>\n",
       "      <td>61077</td>\n",
       "      <td>61498</td>\n",
       "      <td>59043</td>\n",
       "      <td>59467</td>\n",
       "      <td>2.443833e+03</td>\n",
       "      <td>57474.190683</td>\n",
       "      <td>66.308096</td>\n",
       "    </tr>\n",
       "  </tbody>\n",
       "</table>\n",
       "<p>1304 rows × 8 columns</p>\n",
       "</div>"
      ],
      "text/plain": [
       "                     Gmt time   Open   High    Low  Close        Volume  \\\n",
       "0     07.05.2017 21:00:00.000   1559   1681   1557   1658  1.872044e+06   \n",
       "1     08.05.2017 21:00:00.000   1658   1753   1626   1747  1.330136e+06   \n",
       "2     09.05.2017 21:00:00.000   1713   1769   1677   1752  1.916895e+06   \n",
       "3     10.05.2017 21:00:00.000   1784   1887   1777   1857  1.613521e+06   \n",
       "4     11.05.2017 21:00:00.000   1836   1836   1651   1692  2.550428e+06   \n",
       "...                       ...    ...    ...    ...    ...           ...   \n",
       "1301  12.10.2021 21:00:00.000  55433  57543  54328  57047  2.013182e+03   \n",
       "1302  13.10.2021 21:00:00.000  57078  58568  56906  57505  2.001020e+03   \n",
       "1303  14.10.2021 21:00:00.000  57533  62922  56940  62587  2.235774e+03   \n",
       "1304  15.10.2021 21:00:00.000  62587  62608  60223  61077  1.943311e+03   \n",
       "1305  16.10.2021 21:00:00.000  61077  61498  59043  59467  2.443833e+03   \n",
       "\n",
       "               EMA     RSI_10  \n",
       "0              NaN        NaN  \n",
       "1              NaN        NaN  \n",
       "2              NaN        NaN  \n",
       "3              NaN        NaN  \n",
       "4              NaN        NaN  \n",
       "...            ...        ...  \n",
       "1301  54074.141410  71.360551  \n",
       "1302  54697.933881  72.354299  \n",
       "1303  56132.309539  80.637520  \n",
       "1304  57031.344168  73.379074  \n",
       "1305  57474.190683  66.308096  \n",
       "\n",
       "[1304 rows x 8 columns]"
      ]
     },
     "execution_count": 12,
     "metadata": {},
     "output_type": "execute_result"
    }
   ],
   "source": [
    "df"
   ]
  },
  {
   "cell_type": "code",
   "execution_count": 14,
   "metadata": {},
   "outputs": [
    {
     "data": {
      "application/vnd.plotly.v1+json": {
       "config": {
        "plotlyServerURL": "https://plot.ly"
       },
       "data": [
        {
         "close": [
          1658,
          1747,
          1752,
          1857,
          1692,
          1734,
          1770,
          1817,
          1884,
          1938,
          2151,
          2217,
          2430,
          2468,
          2243,
          2307,
          2252,
          2287,
          2411,
          2432,
          2625,
          2872,
          2739,
          2750,
          2835,
          2547,
          2702,
          2553,
          2363,
          2488,
          2580,
          2750,
          2660,
          2672,
          2708,
          2356,
          2458,
          2595,
          2559,
          2504,
          2558,
          2577,
          2612,
          2598,
          2515,
          2385,
          2330,
          2391,
          2339,
          2160,
          2174,
          2349,
          2255,
          2730,
          2626,
          2760,
          2471,
          2504,
          2584,
          2756,
          2886,
          2745,
          2691,
          2783,
          2832,
          3342,
          3447,
          3362,
          3425,
          3588,
          4263,
          4072,
          4352,
          4332,
          4305,
          3997,
          4073,
          4134,
          4234,
          4329,
          4340,
          4597,
          4575,
          4742,
          4739,
          4367,
          4460,
          4569,
          4576,
          4248,
          4193,
          4180,
          3898,
          3392,
          3726,
          4007,
          3906,
          3960,
          3649,
          3616
         ],
         "high": [
          1681,
          1753,
          1769,
          1887,
          1836,
          1803,
          1782,
          1856,
          1887,
          1963,
          2299,
          2272,
          2450,
          2801,
          2679,
          2353,
          2370,
          2337,
          2490,
          2450,
          2630,
          2941,
          2886,
          2813,
          2863,
          3003,
          2788,
          2819,
          2559,
          2526,
          2587,
          2777,
          2781,
          2729,
          2736,
          2561,
          2470,
          2599,
          2605,
          2568,
          2585,
          2642,
          2623,
          2630,
          2610,
          2541,
          2409,
          2414,
          2418,
          2356,
          2189,
          2397,
          2401,
          2731,
          2774,
          2802,
          2781,
          2611,
          2599,
          2836,
          2893,
          2928,
          2760,
          2806,
          2878,
          3427,
          3489,
          3461,
          3458,
          3590,
          4343,
          4452,
          4355,
          4479,
          4359,
          4153,
          4144,
          4265,
          4257,
          4454,
          4370,
          4643,
          4640,
          4769,
          4745,
          4641,
          4546,
          4690,
          4691,
          4694,
          4380,
          4386,
          4212,
          3958,
          3854,
          4127,
          4124,
          4046,
          3975,
          3763
         ],
         "low": [
          1557,
          1626,
          1677,
          1777,
          1651,
          1714,
          1710,
          1746,
          1795,
          1869,
          1999,
          1990,
          2195,
          2226,
          2243,
          2093,
          2211,
          2134,
          2280,
          2374,
          2504,
          2690,
          2739,
          2612,
          2749,
          2449,
          2638,
          2523,
          2077,
          2304,
          2460,
          2586,
          2637,
          2571,
          2664,
          2256,
          2269,
          2428,
          2503,
          2482,
          2476,
          2545,
          2548,
          2581,
          2490,
          2361,
          2256,
          2243,
          2310,
          2153,
          1855,
          2145,
          2220,
          2245,
          2616,
          2721,
          2450,
          2404,
          2452,
          2584,
          2695,
          2646,
          2668,
          2650,
          2765,
          3193,
          3341,
          3238,
          3300,
          3404,
          3984,
          3810,
          4059,
          4185,
          4193,
          3967,
          3774,
          4020,
          4092,
          4218,
          4191,
          4340,
          4500,
          4557,
          4727,
          4166,
          4138,
          4415,
          4483,
          4140,
          4114,
          4080,
          3737,
          3246,
          2975,
          3705,
          3851,
          3837,
          3573,
          3511
         ],
         "open": [
          1559,
          1658,
          1713,
          1784,
          1836,
          1799,
          1740,
          1770,
          1812,
          1884,
          2022,
          2152,
          2234,
          2424,
          2485,
          2120,
          2313,
          2261,
          2287,
          2413,
          2506,
          2690,
          2872,
          2740,
          2750,
          2923,
          2657,
          2703,
          2553,
          2362,
          2470,
          2597,
          2750,
          2661,
          2672,
          2473,
          2349,
          2458,
          2595,
          2558,
          2499,
          2558,
          2577,
          2612,
          2598,
          2529,
          2385,
          2330,
          2390,
          2338,
          1865,
          2173,
          2350,
          2255,
          2730,
          2788,
          2760,
          2468,
          2504,
          2584,
          2761,
          2889,
          2740,
          2691,
          2783,
          3266,
          3343,
          3447,
          3372,
          3425,
          4011,
          4263,
          4072,
          4325,
          4328,
          4119,
          3775,
          4073,
          4134,
          4234,
          4366,
          4340,
          4597,
          4575,
          4742,
          4626,
          4367,
          4460,
          4569,
          4598,
          4289,
          4196,
          4180,
          3898,
          3392,
          3748,
          4007,
          3911,
          3959,
          3650
         ],
         "type": "candlestick",
         "x": [
          0,
          1,
          2,
          3,
          4,
          5,
          6,
          7,
          8,
          9,
          10,
          11,
          12,
          13,
          14,
          15,
          16,
          17,
          18,
          19,
          20,
          21,
          22,
          23,
          24,
          25,
          26,
          27,
          28,
          29,
          30,
          31,
          32,
          33,
          34,
          35,
          36,
          37,
          38,
          39,
          40,
          41,
          42,
          43,
          44,
          45,
          46,
          47,
          48,
          49,
          50,
          51,
          52,
          53,
          54,
          55,
          56,
          57,
          58,
          59,
          60,
          61,
          62,
          63,
          64,
          65,
          66,
          67,
          68,
          69,
          70,
          71,
          72,
          73,
          74,
          75,
          76,
          77,
          78,
          79,
          80,
          81,
          82,
          83,
          84,
          85,
          86,
          87,
          88,
          89,
          90,
          91,
          92,
          93,
          94,
          95,
          96,
          97,
          98,
          99
         ]
        },
        {
         "line": {
          "color": "red",
          "width": 2
         },
         "name": "EMA",
         "type": "scatter",
         "x": [
          0,
          1,
          2,
          3,
          4,
          5,
          6,
          7,
          8,
          9,
          10,
          11,
          12,
          13,
          14,
          15,
          16,
          17,
          18,
          19,
          20,
          21,
          22,
          23,
          24,
          25,
          26,
          27,
          28,
          29,
          30,
          31,
          32,
          33,
          34,
          35,
          36,
          37,
          38,
          39,
          40,
          41,
          42,
          43,
          44,
          45,
          46,
          47,
          48,
          49,
          50,
          51,
          52,
          53,
          54,
          55,
          56,
          57,
          58,
          59,
          60,
          61,
          62,
          63,
          64,
          65,
          66,
          67,
          68,
          69,
          70,
          71,
          72,
          73,
          74,
          75,
          76,
          77,
          78,
          79,
          80,
          81,
          82,
          83,
          84,
          85,
          86,
          87,
          88,
          89,
          90,
          91,
          92,
          93,
          94,
          95,
          96,
          97,
          98,
          99
         ],
         "y": [
          null,
          null,
          null,
          null,
          null,
          null,
          null,
          null,
          null,
          1784.9,
          1851.4636363636364,
          1917.9247933884299,
          2011.029376408715,
          2094.114944334403,
          2121.1849544554207,
          2154.9695081907985,
          2172.6114157924712,
          2193.40934019384,
          2232.9712783404143,
          2269.158318642157,
          2333.856806161765,
          2431.701023223262,
          2487.573564455396,
          2535.287461827142,
          2589.7806505858434,
          2582.002350479326,
          2603.8201049376307,
          2594.580085858061,
          2552.4746157020495,
          2540.751958301677,
          2547.88796588319,
          2584.6356084498825,
          2598.338225095358,
          2611.73127507802,
          2629.2346796092893,
          2579.5556469530547,
          2557.4546202343176,
          2564.2810529189874,
          2563.3208614791715,
          2552.5352503011404,
          2553.5288411554784,
          2557.796324581755,
          2567.651538294163,
          2573.169440422497,
          2562.5931785274975,
          2530.3035097043157,
          2493.884689758076,
          2475.178382529335,
          2450.4186766149105,
          2397.615280866745,
          2356.957957072791,
          2355.511055786829,
          2337.2363183710413,
          2408.6478968490337,
          2448.1664610583002,
          2504.8634681386093,
          2498.7064739315892,
          2499.668933216755,
          2515.001854450072,
          2558.8196990955134,
          2618.3070265326924,
          2641.342112617657,
          2650.370819414447,
          2674.4852158845474,
          2703.1242675419026,
          2819.2834916251927,
          2933.413765875158,
          3011.3385357160378,
          3086.549711040394,
          3177.722490851231,
          3375.0456743328255,
          3501.764642635948,
          3656.3528894294113,
          3779.1978186240635,
          3874.79821523787,
          3897.016721558257,
          3929.013681274937,
          3966.28392104313,
          4014.9595717625607,
          4072.057831442095,
          4120.774589361714,
          4207.361027659584,
          4274.204477176023,
          4359.258208598564,
          4428.302170671553,
          4417.156321458542,
          4424.946081193352,
          4451.137702794561,
          4473.839938650095,
          4432.778131622805,
          4389.182107691386,
          4351.148997202043,
          4268.758270438035,
          4109.347675812937,
          4039.648098392403,
          4033.712080502875,
          4010.491702229625,
          4001.3113927333293,
          3937.2547758727237,
          3878.8448166231374
         ]
        }
       ],
       "layout": {
        "template": {
         "data": {
          "bar": [
           {
            "error_x": {
             "color": "#2a3f5f"
            },
            "error_y": {
             "color": "#2a3f5f"
            },
            "marker": {
             "line": {
              "color": "#E5ECF6",
              "width": 0.5
             },
             "pattern": {
              "fillmode": "overlay",
              "size": 10,
              "solidity": 0.2
             }
            },
            "type": "bar"
           }
          ],
          "barpolar": [
           {
            "marker": {
             "line": {
              "color": "#E5ECF6",
              "width": 0.5
             },
             "pattern": {
              "fillmode": "overlay",
              "size": 10,
              "solidity": 0.2
             }
            },
            "type": "barpolar"
           }
          ],
          "carpet": [
           {
            "aaxis": {
             "endlinecolor": "#2a3f5f",
             "gridcolor": "white",
             "linecolor": "white",
             "minorgridcolor": "white",
             "startlinecolor": "#2a3f5f"
            },
            "baxis": {
             "endlinecolor": "#2a3f5f",
             "gridcolor": "white",
             "linecolor": "white",
             "minorgridcolor": "white",
             "startlinecolor": "#2a3f5f"
            },
            "type": "carpet"
           }
          ],
          "choropleth": [
           {
            "colorbar": {
             "outlinewidth": 0,
             "ticks": ""
            },
            "type": "choropleth"
           }
          ],
          "contour": [
           {
            "colorbar": {
             "outlinewidth": 0,
             "ticks": ""
            },
            "colorscale": [
             [
              0,
              "#0d0887"
             ],
             [
              0.1111111111111111,
              "#46039f"
             ],
             [
              0.2222222222222222,
              "#7201a8"
             ],
             [
              0.3333333333333333,
              "#9c179e"
             ],
             [
              0.4444444444444444,
              "#bd3786"
             ],
             [
              0.5555555555555556,
              "#d8576b"
             ],
             [
              0.6666666666666666,
              "#ed7953"
             ],
             [
              0.7777777777777778,
              "#fb9f3a"
             ],
             [
              0.8888888888888888,
              "#fdca26"
             ],
             [
              1,
              "#f0f921"
             ]
            ],
            "type": "contour"
           }
          ],
          "contourcarpet": [
           {
            "colorbar": {
             "outlinewidth": 0,
             "ticks": ""
            },
            "type": "contourcarpet"
           }
          ],
          "heatmap": [
           {
            "colorbar": {
             "outlinewidth": 0,
             "ticks": ""
            },
            "colorscale": [
             [
              0,
              "#0d0887"
             ],
             [
              0.1111111111111111,
              "#46039f"
             ],
             [
              0.2222222222222222,
              "#7201a8"
             ],
             [
              0.3333333333333333,
              "#9c179e"
             ],
             [
              0.4444444444444444,
              "#bd3786"
             ],
             [
              0.5555555555555556,
              "#d8576b"
             ],
             [
              0.6666666666666666,
              "#ed7953"
             ],
             [
              0.7777777777777778,
              "#fb9f3a"
             ],
             [
              0.8888888888888888,
              "#fdca26"
             ],
             [
              1,
              "#f0f921"
             ]
            ],
            "type": "heatmap"
           }
          ],
          "heatmapgl": [
           {
            "colorbar": {
             "outlinewidth": 0,
             "ticks": ""
            },
            "colorscale": [
             [
              0,
              "#0d0887"
             ],
             [
              0.1111111111111111,
              "#46039f"
             ],
             [
              0.2222222222222222,
              "#7201a8"
             ],
             [
              0.3333333333333333,
              "#9c179e"
             ],
             [
              0.4444444444444444,
              "#bd3786"
             ],
             [
              0.5555555555555556,
              "#d8576b"
             ],
             [
              0.6666666666666666,
              "#ed7953"
             ],
             [
              0.7777777777777778,
              "#fb9f3a"
             ],
             [
              0.8888888888888888,
              "#fdca26"
             ],
             [
              1,
              "#f0f921"
             ]
            ],
            "type": "heatmapgl"
           }
          ],
          "histogram": [
           {
            "marker": {
             "pattern": {
              "fillmode": "overlay",
              "size": 10,
              "solidity": 0.2
             }
            },
            "type": "histogram"
           }
          ],
          "histogram2d": [
           {
            "colorbar": {
             "outlinewidth": 0,
             "ticks": ""
            },
            "colorscale": [
             [
              0,
              "#0d0887"
             ],
             [
              0.1111111111111111,
              "#46039f"
             ],
             [
              0.2222222222222222,
              "#7201a8"
             ],
             [
              0.3333333333333333,
              "#9c179e"
             ],
             [
              0.4444444444444444,
              "#bd3786"
             ],
             [
              0.5555555555555556,
              "#d8576b"
             ],
             [
              0.6666666666666666,
              "#ed7953"
             ],
             [
              0.7777777777777778,
              "#fb9f3a"
             ],
             [
              0.8888888888888888,
              "#fdca26"
             ],
             [
              1,
              "#f0f921"
             ]
            ],
            "type": "histogram2d"
           }
          ],
          "histogram2dcontour": [
           {
            "colorbar": {
             "outlinewidth": 0,
             "ticks": ""
            },
            "colorscale": [
             [
              0,
              "#0d0887"
             ],
             [
              0.1111111111111111,
              "#46039f"
             ],
             [
              0.2222222222222222,
              "#7201a8"
             ],
             [
              0.3333333333333333,
              "#9c179e"
             ],
             [
              0.4444444444444444,
              "#bd3786"
             ],
             [
              0.5555555555555556,
              "#d8576b"
             ],
             [
              0.6666666666666666,
              "#ed7953"
             ],
             [
              0.7777777777777778,
              "#fb9f3a"
             ],
             [
              0.8888888888888888,
              "#fdca26"
             ],
             [
              1,
              "#f0f921"
             ]
            ],
            "type": "histogram2dcontour"
           }
          ],
          "mesh3d": [
           {
            "colorbar": {
             "outlinewidth": 0,
             "ticks": ""
            },
            "type": "mesh3d"
           }
          ],
          "parcoords": [
           {
            "line": {
             "colorbar": {
              "outlinewidth": 0,
              "ticks": ""
             }
            },
            "type": "parcoords"
           }
          ],
          "pie": [
           {
            "automargin": true,
            "type": "pie"
           }
          ],
          "scatter": [
           {
            "fillpattern": {
             "fillmode": "overlay",
             "size": 10,
             "solidity": 0.2
            },
            "type": "scatter"
           }
          ],
          "scatter3d": [
           {
            "line": {
             "colorbar": {
              "outlinewidth": 0,
              "ticks": ""
             }
            },
            "marker": {
             "colorbar": {
              "outlinewidth": 0,
              "ticks": ""
             }
            },
            "type": "scatter3d"
           }
          ],
          "scattercarpet": [
           {
            "marker": {
             "colorbar": {
              "outlinewidth": 0,
              "ticks": ""
             }
            },
            "type": "scattercarpet"
           }
          ],
          "scattergeo": [
           {
            "marker": {
             "colorbar": {
              "outlinewidth": 0,
              "ticks": ""
             }
            },
            "type": "scattergeo"
           }
          ],
          "scattergl": [
           {
            "marker": {
             "colorbar": {
              "outlinewidth": 0,
              "ticks": ""
             }
            },
            "type": "scattergl"
           }
          ],
          "scattermapbox": [
           {
            "marker": {
             "colorbar": {
              "outlinewidth": 0,
              "ticks": ""
             }
            },
            "type": "scattermapbox"
           }
          ],
          "scatterpolar": [
           {
            "marker": {
             "colorbar": {
              "outlinewidth": 0,
              "ticks": ""
             }
            },
            "type": "scatterpolar"
           }
          ],
          "scatterpolargl": [
           {
            "marker": {
             "colorbar": {
              "outlinewidth": 0,
              "ticks": ""
             }
            },
            "type": "scatterpolargl"
           }
          ],
          "scatterternary": [
           {
            "marker": {
             "colorbar": {
              "outlinewidth": 0,
              "ticks": ""
             }
            },
            "type": "scatterternary"
           }
          ],
          "surface": [
           {
            "colorbar": {
             "outlinewidth": 0,
             "ticks": ""
            },
            "colorscale": [
             [
              0,
              "#0d0887"
             ],
             [
              0.1111111111111111,
              "#46039f"
             ],
             [
              0.2222222222222222,
              "#7201a8"
             ],
             [
              0.3333333333333333,
              "#9c179e"
             ],
             [
              0.4444444444444444,
              "#bd3786"
             ],
             [
              0.5555555555555556,
              "#d8576b"
             ],
             [
              0.6666666666666666,
              "#ed7953"
             ],
             [
              0.7777777777777778,
              "#fb9f3a"
             ],
             [
              0.8888888888888888,
              "#fdca26"
             ],
             [
              1,
              "#f0f921"
             ]
            ],
            "type": "surface"
           }
          ],
          "table": [
           {
            "cells": {
             "fill": {
              "color": "#EBF0F8"
             },
             "line": {
              "color": "white"
             }
            },
            "header": {
             "fill": {
              "color": "#C8D4E3"
             },
             "line": {
              "color": "white"
             }
            },
            "type": "table"
           }
          ]
         },
         "layout": {
          "annotationdefaults": {
           "arrowcolor": "#2a3f5f",
           "arrowhead": 0,
           "arrowwidth": 1
          },
          "autotypenumbers": "strict",
          "coloraxis": {
           "colorbar": {
            "outlinewidth": 0,
            "ticks": ""
           }
          },
          "colorscale": {
           "diverging": [
            [
             0,
             "#8e0152"
            ],
            [
             0.1,
             "#c51b7d"
            ],
            [
             0.2,
             "#de77ae"
            ],
            [
             0.3,
             "#f1b6da"
            ],
            [
             0.4,
             "#fde0ef"
            ],
            [
             0.5,
             "#f7f7f7"
            ],
            [
             0.6,
             "#e6f5d0"
            ],
            [
             0.7,
             "#b8e186"
            ],
            [
             0.8,
             "#7fbc41"
            ],
            [
             0.9,
             "#4d9221"
            ],
            [
             1,
             "#276419"
            ]
           ],
           "sequential": [
            [
             0,
             "#0d0887"
            ],
            [
             0.1111111111111111,
             "#46039f"
            ],
            [
             0.2222222222222222,
             "#7201a8"
            ],
            [
             0.3333333333333333,
             "#9c179e"
            ],
            [
             0.4444444444444444,
             "#bd3786"
            ],
            [
             0.5555555555555556,
             "#d8576b"
            ],
            [
             0.6666666666666666,
             "#ed7953"
            ],
            [
             0.7777777777777778,
             "#fb9f3a"
            ],
            [
             0.8888888888888888,
             "#fdca26"
            ],
            [
             1,
             "#f0f921"
            ]
           ],
           "sequentialminus": [
            [
             0,
             "#0d0887"
            ],
            [
             0.1111111111111111,
             "#46039f"
            ],
            [
             0.2222222222222222,
             "#7201a8"
            ],
            [
             0.3333333333333333,
             "#9c179e"
            ],
            [
             0.4444444444444444,
             "#bd3786"
            ],
            [
             0.5555555555555556,
             "#d8576b"
            ],
            [
             0.6666666666666666,
             "#ed7953"
            ],
            [
             0.7777777777777778,
             "#fb9f3a"
            ],
            [
             0.8888888888888888,
             "#fdca26"
            ],
            [
             1,
             "#f0f921"
            ]
           ]
          },
          "colorway": [
           "#636efa",
           "#EF553B",
           "#00cc96",
           "#ab63fa",
           "#FFA15A",
           "#19d3f3",
           "#FF6692",
           "#B6E880",
           "#FF97FF",
           "#FECB52"
          ],
          "font": {
           "color": "#2a3f5f"
          },
          "geo": {
           "bgcolor": "white",
           "lakecolor": "white",
           "landcolor": "#E5ECF6",
           "showlakes": true,
           "showland": true,
           "subunitcolor": "white"
          },
          "hoverlabel": {
           "align": "left"
          },
          "hovermode": "closest",
          "mapbox": {
           "style": "light"
          },
          "paper_bgcolor": "white",
          "plot_bgcolor": "#E5ECF6",
          "polar": {
           "angularaxis": {
            "gridcolor": "white",
            "linecolor": "white",
            "ticks": ""
           },
           "bgcolor": "#E5ECF6",
           "radialaxis": {
            "gridcolor": "white",
            "linecolor": "white",
            "ticks": ""
           }
          },
          "scene": {
           "xaxis": {
            "backgroundcolor": "#E5ECF6",
            "gridcolor": "white",
            "gridwidth": 2,
            "linecolor": "white",
            "showbackground": true,
            "ticks": "",
            "zerolinecolor": "white"
           },
           "yaxis": {
            "backgroundcolor": "#E5ECF6",
            "gridcolor": "white",
            "gridwidth": 2,
            "linecolor": "white",
            "showbackground": true,
            "ticks": "",
            "zerolinecolor": "white"
           },
           "zaxis": {
            "backgroundcolor": "#E5ECF6",
            "gridcolor": "white",
            "gridwidth": 2,
            "linecolor": "white",
            "showbackground": true,
            "ticks": "",
            "zerolinecolor": "white"
           }
          },
          "shapedefaults": {
           "line": {
            "color": "#2a3f5f"
           }
          },
          "ternary": {
           "aaxis": {
            "gridcolor": "white",
            "linecolor": "white",
            "ticks": ""
           },
           "baxis": {
            "gridcolor": "white",
            "linecolor": "white",
            "ticks": ""
           },
           "bgcolor": "#E5ECF6",
           "caxis": {
            "gridcolor": "white",
            "linecolor": "white",
            "ticks": ""
           }
          },
          "title": {
           "x": 0.05
          },
          "xaxis": {
           "automargin": true,
           "gridcolor": "white",
           "linecolor": "white",
           "ticks": "",
           "title": {
            "standoff": 15
           },
           "zerolinecolor": "white",
           "zerolinewidth": 2
          },
          "yaxis": {
           "automargin": true,
           "gridcolor": "white",
           "linecolor": "white",
           "ticks": "",
           "title": {
            "standoff": 15
           },
           "zerolinecolor": "white",
           "zerolinewidth": 2
          }
         }
        }
       }
      }
     },
     "metadata": {},
     "output_type": "display_data"
    }
   ],
   "source": [
    "dfp1 = df[0:100]\n",
    "import plotly.graph_objects as go\n",
    "\n",
    "fig = go.Figure(data=[go.Candlestick(x=dfp1.index,\n",
    "                                     open = dfp1['Open'],\n",
    "                                     high = dfp1['High'],\n",
    "                                     low = dfp1['Low'],\n",
    "                                     close = dfp1['Close']),\n",
    "                                     go.Scatter(x=dfp1.index, y=dfp1.EMA, line=dict(color='red' ,width=2), name=\"EMA\")])\n",
    "\n",
    "fig.show()"
   ]
  },
  {
   "cell_type": "code",
   "execution_count": 15,
   "metadata": {},
   "outputs": [
    {
     "name": "stdout",
     "output_type": "stream",
     "text": [
      "Pandas TA - Technical Analysis Indicators - v0.3.14b0\n",
      "Total Indicators & Utilities: 205\n",
      "Abbreviations:\n",
      "    aberration, above, above_value, accbands, ad, adosc, adx, alma, amat, ao, aobv, apo, aroon, atr, bbands, below, below_value, bias, bop, brar, cci, cdl_pattern, cdl_z, cfo, cg, chop, cksp, cmf, cmo, coppock, cross, cross_value, cti, decay, decreasing, dema, dm, donchian, dpo, ebsw, efi, ema, entropy, eom, er, eri, fisher, fwma, ha, hilo, hl2, hlc3, hma, hwc, hwma, ichimoku, increasing, inertia, jma, kama, kc, kdj, kst, kurtosis, kvo, linreg, log_return, long_run, macd, mad, massi, mcgd, median, mfi, midpoint, midprice, mom, natr, nvi, obv, ohlc4, pdist, percent_return, pgo, ppo, psar, psl, pvi, pvo, pvol, pvr, pvt, pwma, qqe, qstick, quantile, rma, roc, rsi, rsx, rvgi, rvi, short_run, sinwma, skew, slope, sma, smi, squeeze, squeeze_pro, ssf, stc, stdev, stoch, stochrsi, supertrend, swma, t3, td_seq, tema, thermo, tos_stdevall, trima, trix, true_range, tsi, tsignals, ttm_trend, ui, uo, variance, vhf, vidya, vortex, vp, vwap, vwma, wcp, willr, wma, xsignals, zlma, zscore\n",
      "\n",
      "Candle Patterns:\n",
      "    2crows, 3blackcrows, 3inside, 3linestrike, 3outside, 3starsinsouth, 3whitesoldiers, abandonedbaby, advanceblock, belthold, breakaway, closingmarubozu, concealbabyswall, counterattack, darkcloudcover, doji, dojistar, dragonflydoji, engulfing, eveningdojistar, eveningstar, gapsidesidewhite, gravestonedoji, hammer, hangingman, harami, haramicross, highwave, hikkake, hikkakemod, homingpigeon, identical3crows, inneck, inside, invertedhammer, kicking, kickingbylength, ladderbottom, longleggeddoji, longline, marubozu, matchinglow, mathold, morningdojistar, morningstar, onneck, piercing, rickshawman, risefall3methods, separatinglines, shootingstar, shortline, spinningtop, stalledpattern, sticksandwich, takuri, tasukigap, thrusting, tristar, unique3river, upsidegap2crows, xsidegap3methods\n"
     ]
    }
   ],
   "source": [
    "df.ta.indicators()   #Know all the technical indicators present"
   ]
  },
  {
   "cell_type": "code",
   "execution_count": 16,
   "metadata": {},
   "outputs": [
    {
     "name": "stdout",
     "output_type": "stream",
     "text": [
      "Help on function rsi in module pandas_ta.momentum.rsi:\n",
      "\n",
      "rsi(close, length=None, scalar=None, talib=None, drift=None, offset=None, **kwargs)\n",
      "    Relative Strength Index (RSI)\n",
      "    \n",
      "    The Relative Strength Index is popular momentum oscillator used to measure the\n",
      "    velocity as well as the magnitude of directional price movements.\n",
      "    \n",
      "    Sources:\n",
      "        https://www.tradingview.com/wiki/Relative_Strength_Index_(RSI)\n",
      "    \n",
      "    Calculation:\n",
      "        Default Inputs:\n",
      "            length=14, scalar=100, drift=1\n",
      "        ABS = Absolute Value\n",
      "        RMA = Rolling Moving Average\n",
      "    \n",
      "        diff = close.diff(drift)\n",
      "        positive = diff if diff > 0 else 0\n",
      "        negative = diff if diff < 0 else 0\n",
      "    \n",
      "        pos_avg = RMA(positive, length)\n",
      "        neg_avg = ABS(RMA(negative, length))\n",
      "    \n",
      "        RSI = scalar * pos_avg / (pos_avg + neg_avg)\n",
      "    \n",
      "    Args:\n",
      "        close (pd.Series): Series of 'close's\n",
      "        length (int): It's period. Default: 14\n",
      "        scalar (float): How much to magnify. Default: 100\n",
      "        talib (bool): If TA Lib is installed and talib is True, Returns the TA Lib\n",
      "            version. Default: True\n",
      "        drift (int): The difference period. Default: 1\n",
      "        offset (int): How many periods to offset the result. Default: 0\n",
      "    \n",
      "    Kwargs:\n",
      "        fillna (value, optional): pd.DataFrame.fillna(value)\n",
      "        fill_method (value, optional): Type of fill method\n",
      "    \n",
      "    Returns:\n",
      "        pd.Series: New feature generated.\n",
      "\n"
     ]
    }
   ],
   "source": [
    "help(ta.rsi)  # get info on any indicator"
   ]
  },
  {
   "cell_type": "code",
   "execution_count": null,
   "metadata": {},
   "outputs": [],
   "source": []
  }
 ],
 "metadata": {
  "kernelspec": {
   "display_name": "Python 3",
   "language": "python",
   "name": "python3"
  },
  "language_info": {
   "codemirror_mode": {
    "name": "ipython",
    "version": 3
   },
   "file_extension": ".py",
   "mimetype": "text/x-python",
   "name": "python",
   "nbconvert_exporter": "python",
   "pygments_lexer": "ipython3",
   "version": "3.11.4"
  }
 },
 "nbformat": 4,
 "nbformat_minor": 2
}
